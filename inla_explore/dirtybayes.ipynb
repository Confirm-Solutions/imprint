{
 "cells": [
  {
   "cell_type": "code",
   "execution_count": 5,
   "metadata": {},
   "outputs": [
    {
     "data": {
      "text/plain": [
       "{'mu_posterior': array([-1.04079059,  0.28621066, -0.57397597, -0.57397597]),\n",
       " 'Sigma_posterior': array([[0.52631579, 0.        , 0.        , 0.        ],\n",
       "        [0.        , 0.29411765, 0.        , 0.        ],\n",
       "        [0.        , 0.        , 0.32258065, 0.        ],\n",
       "        [0.        , 0.        , 0.        , 0.32258065]]),\n",
       " 'conf_logit':       lower    median     upper\n",
       " 0 -2.462724 -1.040791  0.381143\n",
       " 1 -0.776749  0.286211  1.349170\n",
       " 2 -1.687181 -0.573976  0.539229\n",
       " 3 -1.687181 -0.573976  0.539229,\n",
       " 'conf_prob':       lower    median     upper\n",
       " 0  0.078513  0.260997  0.594149\n",
       " 1  0.315021  0.571068  0.793994\n",
       " 2  0.156147  0.360320  0.631633\n",
       " 3  0.156147  0.360320  0.631633}"
      ]
     },
     "execution_count": 5,
     "metadata": {},
     "output_type": "execute_result"
    }
   ],
   "source": [
    "import pandas as pd\n",
    "import numpy as np\n",
    "\n",
    "# helper functions\n",
    "def logit(p):\n",
    "    return np.log(p) - np.log(1 - p)\n",
    "\n",
    "\n",
    "def invlogit(theta):\n",
    "    return 1 / (1 + np.exp(-theta))\n",
    "\n",
    "\n",
    "d = 4\n",
    "\n",
    "\n",
    "def dirtymultilevel(\n",
    "    n=np.repeat(100, d), phat=np.repeat(0.5, d), mu0=np.repeat(0, d), V0=None, return_ci=False\n",
    "):\n",
    "    if V0 is None:\n",
    "        # note: V0 should generally be equal to the prior sigma-inverse\n",
    "        V0 = np.diag(np.repeat(1, len(phat)))\n",
    "    # phat += 1e-8\n",
    "    MLE = logit(phat)\n",
    "    sample_I = np.diag(n * phat * (1 - phat))\n",
    "    precision_posterior = V0 + sample_I\n",
    "    Sigma_posterior = np.linalg.inv(precision_posterior)\n",
    "    mu_posterior = Sigma_posterior @ (sample_I @ MLE + V0 @ mu0)\n",
    "    # mu_posterior = np.linalg.solve(precision_posterior, sample_I @ MLE + V0 @ mu0)\n",
    "    ci_dict = {}\n",
    "    if return_ci:\n",
    "        # implement 95% CI on each arm\n",
    "        CI_upper_logit = mu_posterior + 1.96 * np.sqrt(np.diag(Sigma_posterior))\n",
    "        median_logit = mu_posterior\n",
    "        CI_lower_logit = mu_posterior - 1.96 * np.sqrt(np.diag(Sigma_posterior))\n",
    "        conf_logit = pd.DataFrame(\n",
    "            np.column_stack([CI_lower_logit, median_logit, CI_upper_logit]),\n",
    "            columns=(\"lower\", \"median\", \"upper\"),\n",
    "        )\n",
    "        conf_prob = conf_logit.apply(invlogit, axis=1)\n",
    "        ci_dict['conf_logit']=conf_logit\n",
    "        ci_dict['conf_prob']=conf_prob\n",
    "    return dict(\n",
    "        mu_posterior=mu_posterior,\n",
    "        Sigma_posterior=Sigma_posterior,\n",
    "        **ci_dict,\n",
    "    )\n"
   ]
  },
  {
   "cell_type": "code",
   "execution_count": 10,
   "metadata": {},
   "outputs": [
    {
     "data": {
      "text/plain": [
       "array([[1.9, 0. , 0. , 0. ],\n",
       "       [0. , 3.4, 0. , 0. ],\n",
       "       [0. , 0. , 3.1, 0. ],\n",
       "       [0. , 0. , 0. , 3.1]])"
      ]
     },
     "execution_count": 10,
     "metadata": {},
     "output_type": "execute_result"
    }
   ],
   "source": [
    "n=np.array([10] * 4)\n",
    "phat = np.array([0.1, 0.6, 0.3, 0.3])\n",
    "V0 = None\n",
    "mu0 = np.repeat(0, d)\n",
    "if V0 is None:\n",
    "    # note: V0 should generally be equal to the prior sigma-inverse\n",
    "    V0 = np.diag(np.repeat(1, len(phat)))\n",
    "# phat += 1e-8\n",
    "MLE = logit(phat)\n",
    "sample_I = np.diag(n * phat * (1 - phat))\n",
    "precision_posterior = V0 + sample_I\n",
    "precision_posterior"
   ]
  },
  {
   "cell_type": "code",
   "execution_count": null,
   "metadata": {},
   "outputs": [],
   "source": [
    "\n",
    "Sigma_posterior = np.linalg.inv(precision_posterior)\n",
    "mu_posterior = Sigma_posterior @ (sample_I @ MLE + V0 @ mu0)\n",
    "# mu_posterior = np.linalg.solve(precision_posterior, sample_I @ MLE + V0 @ mu0)\n",
    "\n",
    "ci_dict = {}\n",
    "# implement 95% CI on each arm\n",
    "CI_upper_logit = mu_posterior + 1.96 * np.sqrt(np.diag(Sigma_posterior))\n",
    "median_logit = mu_posterior\n",
    "CI_lower_logit = mu_posterior - 1.96 * np.sqrt(np.diag(Sigma_posterior))\n",
    "conf_logit = pd.DataFrame(\n",
    "    np.column_stack([CI_lower_logit, median_logit, CI_upper_logit]),\n",
    "    columns=(\"lower\", \"median\", \"upper\"),\n",
    ")\n",
    "conf_prob = conf_logit.apply(invlogit, axis=1)\n",
    "ci_dict['conf_logit']=conf_logit\n",
    "ci_dict['conf_prob']=conf_prob\n",
    "dict(\n",
    "    mu_posterior=mu_posterior,\n",
    "    Sigma_posterior=Sigma_posterior,\n",
    "    **ci_dict,\n",
    ")"
   ]
  },
  {
   "cell_type": "code",
   "execution_count": null,
   "metadata": {},
   "outputs": [],
   "source": []
  }
 ],
 "metadata": {
  "interpreter": {
   "hash": "a9637099bd81b2ef0895c64d539356b45819bc945d59d426757b1f51ae370d50"
  },
  "kernelspec": {
   "display_name": "Python 3.10.2 ('kevlar')",
   "language": "python",
   "name": "python3"
  },
  "language_info": {
   "codemirror_mode": {
    "name": "ipython",
    "version": 3
   },
   "file_extension": ".py",
   "mimetype": "text/x-python",
   "name": "python",
   "nbconvert_exporter": "python",
   "pygments_lexer": "ipython3",
   "version": "3.10.2"
  },
  "orig_nbformat": 4
 },
 "nbformat": 4,
 "nbformat_minor": 2
}
