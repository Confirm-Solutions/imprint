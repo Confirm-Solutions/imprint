{
 "cells": [
  {
   "cell_type": "code",
   "execution_count": null,
   "metadata": {},
   "outputs": [],
   "source": [
    "%load_ext autoreload\n",
    "%autoreload 2"
   ]
  },
  {
   "cell_type": "code",
   "execution_count": null,
   "metadata": {},
   "outputs": [],
   "source": [
    "import scipy.stats\n",
    "import scipy.optimize\n",
    "import scipy.integrate\n",
    "import scipy.special\n",
    "import numpy as np\n",
    "import matplotlib.pyplot as plt\n",
    "from IPython.display import display"
   ]
  },
  {
   "cell_type": "code",
   "execution_count": null,
   "metadata": {},
   "outputs": [],
   "source": [
    "np.random.seed(100)\n",
    "\n",
    "n_patients_per_group = 50\n",
    "n_arms = 4\n",
    "n_sims = 1000\n",
    "\n",
    "# The group effects are drawn from a distribution with mean 0.5 and variance 1.0\n",
    "mean_effect = 0.5\n",
    "effect_var = 1.0\n",
    "t_i = scipy.stats.norm.rvs(mean_effect, np.sqrt(effect_var), size=(n_sims, n_arms))\n",
    "\n",
    "# inverse logit to get probabilities from linear predictors.\n",
    "p_i = scipy.special.expit(t_i)\n",
    "\n",
    "n_i = np.full_like(p_i, n_patients_per_group)\n",
    "\n",
    "# draw actual trial results.\n",
    "y_i = scipy.stats.binom.rvs(n_patients_per_group, p_i)\n",
    "y_i.shape"
   ]
  },
  {
   "cell_type": "markdown",
   "metadata": {},
   "source": [
    "## INLA"
   ]
  },
  {
   "cell_type": "code",
   "execution_count": null,
   "metadata": {},
   "outputs": [],
   "source": [
    "%%time\n",
    "import model\n",
    "\n",
    "post_theta, logpost_theta_data = model.calc_posterior_theta(y_i, n_i)"
   ]
  },
  {
   "cell_type": "code",
   "execution_count": null,
   "metadata": {},
   "outputs": [],
   "source": [
    "%%time\n",
    "mu_post, sigma_post = model.calc_posterior_x(post_theta, logpost_theta_data)"
   ]
  },
  {
   "cell_type": "code",
   "execution_count": null,
   "metadata": {},
   "outputs": [],
   "source": [
    "a_grid = logpost_theta_data[\"a_grid\"]\n",
    "q_grid = logpost_theta_data[\"q_grid\"]\n",
    "plt.figure(figsize=(12, 8))\n",
    "for i in range(6):\n",
    "    field = post_theta[i]\n",
    "    levels = None\n",
    "    plt.subplot(2, 3, i + 1)\n",
    "    cntf = plt.contourf(a_grid, 1 / q_grid, field.reshape(a_grid.shape), levels=levels)\n",
    "    plt.contour(\n",
    "        a_grid,\n",
    "        1 / q_grid,\n",
    "        field.reshape(a_grid.shape),\n",
    "        colors=\"k\",\n",
    "        linestyles=\"-\",\n",
    "        linewidths=0.5,\n",
    "        levels=levels,\n",
    "    )\n",
    "    cbar = plt.colorbar(cntf)\n",
    "    plt.xlabel(\"$a$\")\n",
    "    plt.ylabel(\"$1/Q_v$\")\n",
    "plt.show()"
   ]
  },
  {
   "cell_type": "code",
   "execution_count": null,
   "metadata": {},
   "outputs": [],
   "source": [
    "map_idx = np.argmax(post_theta.reshape((n_sims, -1)), axis=1)\n",
    "map_A = a_grid.ravel()[map_idx]\n",
    "map_Q = q_grid.ravel()[map_idx]\n",
    "plt.figure(figsize=(8, 4))\n",
    "plt.subplot(1, 2, 1)\n",
    "plt.hist(map_A)\n",
    "plt.xlabel(\"a\")\n",
    "plt.subplot(1, 2, 2)\n",
    "plt.hist(1 / map_Q)\n",
    "plt.xlabel(\"1/Q\")\n",
    "plt.show()"
   ]
  },
  {
   "cell_type": "code",
   "execution_count": null,
   "metadata": {},
   "outputs": [],
   "source": [
    "ci025 = mu_post - 1.96 * sigma_post\n",
    "ci975 = mu_post + 1.96 * sigma_post\n",
    "good = (ci025 < t_i) & (t_i < ci975)\n",
    "np.sum(good) / (n_sims * n_arms)"
   ]
  },
  {
   "cell_type": "code",
   "execution_count": null,
   "metadata": {},
   "outputs": [],
   "source": [
    "sorted_idxs = np.argsort(t_i[:, 0])\n",
    "plt.plot(ci025[sorted_idxs, 0])\n",
    "plt.plot(t_i[sorted_idxs, 0])\n",
    "plt.plot(mu_post[sorted_idxs, 0])\n",
    "plt.plot(ci975[sorted_idxs, 0])\n",
    "plt.show()"
   ]
  },
  {
   "cell_type": "markdown",
   "metadata": {},
   "source": [
    "## MCMC"
   ]
  },
  {
   "cell_type": "code",
   "execution_count": null,
   "metadata": {},
   "outputs": [],
   "source": [
    "%%time\n",
    "from model import mcmc\n",
    "\n",
    "mcmc_results = mcmc(y_i, n_i, iterations=50000, burn_in=500, skip=3)\n",
    "assert np.all(\n",
    "    (mcmc_results[\"CI025\"] < mcmc_results[\"mean\"])\n",
    "    & (mcmc_results[\"mean\"] < mcmc_results[\"CI975\"])\n",
    ")"
   ]
  },
  {
   "cell_type": "code",
   "execution_count": null,
   "metadata": {},
   "outputs": [],
   "source": [
    "print(\"mcmc results\")\n",
    "effect_estimates_in_cis = (mcmc_results[\"CI025\"][:, :4] < t_i) & (\n",
    "    t_i < mcmc_results[\"CI975\"][:, :4]\n",
    ")\n",
    "mean_est_in_cis = (mcmc_results[\"CI025\"][:, 4] < mean_effect) & (\n",
    "    mean_effect < mcmc_results[\"CI975\"][:, 4]\n",
    ")\n",
    "var_est_in_cis = (mcmc_results[\"CI025\"][:, 5] < effect_var) & (\n",
    "    effect_var < mcmc_results[\"CI975\"][:, 5]\n",
    ")\n",
    "np.sum(effect_estimates_in_cis) / (n_sims * n_arms), np.sum(mean_est_in_cis) / (\n",
    "    n_sims\n",
    "), np.sum(var_est_in_cis) / (n_sims)"
   ]
  },
  {
   "cell_type": "markdown",
   "metadata": {},
   "source": [
    "# Profiling MCMC to understand the slow parts"
   ]
  },
  {
   "cell_type": "code",
   "execution_count": null,
   "metadata": {},
   "outputs": [],
   "source": [
    "%load_ext line_profiler\n",
    "from model import proposal, calc_log_joint, calc_log_prior\n",
    "\n",
    "%lprun -f mcmc -f proposal -f calc_log_joint -f calc_log_prior mcmc(y_i, n_i, iterations=10000, burn_in=500, skip=3)"
   ]
  }
 ],
 "metadata": {
  "interpreter": {
   "hash": "a9637099bd81b2ef0895c64d539356b45819bc945d59d426757b1f51ae370d50"
  },
  "kernelspec": {
   "display_name": "Python 3.10.2 64-bit ('kevlar': conda)",
   "language": "python",
   "name": "python3"
  },
  "language_info": {
   "codemirror_mode": {
    "name": "ipython",
    "version": 3
   },
   "file_extension": ".py",
   "mimetype": "text/x-python",
   "name": "python",
   "nbconvert_exporter": "python",
   "pygments_lexer": "ipython3",
   "version": "3.10.2"
  }
 },
 "nbformat": 4,
 "nbformat_minor": 2
}
