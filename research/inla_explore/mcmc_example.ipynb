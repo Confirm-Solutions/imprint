{
 "cells": [
  {
   "cell_type": "code",
   "execution_count": null,
   "metadata": {},
   "outputs": [],
   "source": [
    "import scipy.stats\n",
    "import scipy.optimize\n",
    "import scipy.integrate\n",
    "import numpy as np\n",
    "import matplotlib.pyplot as plt\n",
    "from IPython.display import display\n",
    "\n",
    "n_i = np.full(4, 50)\n",
    "x_i = np.array(\n",
    "    [0.0542217351633235, -0.7058565689642957, 0.5411263138456900, 1.1393884075711429]\n",
    ")\n",
    "p_i = np.array(\n",
    "    [0.5135521136895386, 0.3305150325484877, 0.6320743881220601, 0.7575673322021476]\n",
    ")\n",
    "y_i = np.array([28, 14, 33, 36])\n",
    "rinla_cis = np.array(\n",
    "    [\n",
    "        [-0.2914459, 0.7714731],\n",
    "        [-1.399438, -0.1621846],\n",
    "        [0.05145177, 1.165792],\n",
    "        [0.2554444, 1.437953],\n",
    "    ]\n",
    ")"
   ]
  },
  {
   "cell_type": "code",
   "execution_count": null,
   "metadata": {},
   "outputs": [],
   "source": [
    "def calc_precision_matrixQ(Qv):\n",
    "    return np.diag(np.full(x_i.shape[0], Qv))\n",
    "\n",
    "\n",
    "def calc_log_prior(a, Qv):\n",
    "    return scipy.stats.norm.logpdf(a, 0, 1) + scipy.stats.lognorm.logpdf(Qv, 10.0)\n",
    "\n",
    "\n",
    "def calc_log_joint(x, y, n, a, Qv):\n",
    "    Q = calc_precision_matrixQ(Qv)\n",
    "    term1 = -(x - a).T.dot(Q).dot(x - a) / 2\n",
    "    term2 = np.sum(x * y - n * np.log(np.exp(x) + 1))\n",
    "    term3 = np.log(np.linalg.det(Q)) / 2\n",
    "    term4 = calc_log_prior(a, Qv)\n",
    "    return term1 + term2 + term3 + term4"
   ]
  },
  {
   "cell_type": "code",
   "execution_count": null,
   "metadata": {},
   "outputs": [],
   "source": [
    "def proposal(x, sigma=0.25):\n",
    "    rv = scipy.stats.norm.rvs(x, sigma, size=6)\n",
    "    ratio = 1\n",
    "    return rv, ratio\n",
    "\n",
    "\n",
    "def joint(xstar):\n",
    "    a = xstar[-2]\n",
    "    Qv = xstar[-1]\n",
    "    return np.exp(calc_log_joint(xstar[:4], y_i, n_i, a, Qv))\n",
    "\n",
    "\n",
    "x0 = np.zeros(6)\n",
    "x0[-1] = 1\n",
    "x0"
   ]
  },
  {
   "cell_type": "code",
   "execution_count": null,
   "metadata": {},
   "outputs": [],
   "source": [
    "x = x0\n",
    "Jx = joint(x)\n",
    "x_chain = [x]\n",
    "J_chain = [Jx]\n",
    "accept = [True]\n",
    "iterations = 50000\n",
    "\n",
    "for i in range(iterations):\n",
    "    xstar, ratio = proposal(x)\n",
    "    if xstar[-1] < 0.0:\n",
    "        continue\n",
    "\n",
    "    Jxstar = joint(xstar)\n",
    "    hastings_ratio = (Jxstar * ratio) / Jx\n",
    "    if hastings_ratio > 1 or np.random.uniform(0, 1) < hastings_ratio:\n",
    "        # accept\n",
    "        x = xstar\n",
    "        Jx = Jxstar\n",
    "        accept.append(True)\n",
    "    else:\n",
    "        accept.append(False)\n",
    "\n",
    "    x_chain.append(x)\n",
    "    J_chain.append(Jx)"
   ]
  },
  {
   "cell_type": "code",
   "execution_count": null,
   "metadata": {},
   "outputs": [],
   "source": [
    "x_chain = np.array(x_chain)\n",
    "J_chain = np.array(J_chain)\n",
    "accept = np.array(accept)"
   ]
  },
  {
   "cell_type": "code",
   "execution_count": null,
   "metadata": {},
   "outputs": [],
   "source": [
    "burn_in_n = 500\n",
    "x_chain_burnin = x_chain[burn_in_n:]"
   ]
  },
  {
   "cell_type": "code",
   "execution_count": null,
   "metadata": {},
   "outputs": [],
   "source": [
    "plt.figure(figsize=(9, 13))\n",
    "plt.subplot(3, 2, 1)\n",
    "plt.plot(x_chain[:, :4])\n",
    "plt.subplot(3, 2, 2)\n",
    "plt.plot(x_chain[:, 4:])\n",
    "plt.subplot(3, 2, 3)\n",
    "plt.hist(x_chain_burnin[:, 0])\n",
    "plt.subplot(3, 2, 4)\n",
    "plt.plot(np.log(J_chain[burn_in_n:]))\n",
    "plt.subplot(3, 2, 5)\n",
    "plt.plot(np.cumsum(accept[burn_in_n:]) / (np.arange(x_chain_burnin.shape[0]) + 1))\n",
    "plt.show()"
   ]
  },
  {
   "cell_type": "code",
   "execution_count": null,
   "metadata": {},
   "outputs": [],
   "source": [
    "ci025n = int(x_chain_burnin.shape[0] * 0.025)\n",
    "ci975n = int(x_chain_burnin.shape[0] * 0.975)\n",
    "for j in range(6):\n",
    "    x_sorted = x_chain_burnin[:, j].copy()\n",
    "    x_sorted.sort()\n",
    "    x_mean = x_sorted.mean()\n",
    "    print(j, x_sorted[ci025n], x_i[j] if j < 4 else 0, x_mean, x_sorted[ci975n])"
   ]
  },
  {
   "cell_type": "code",
   "execution_count": null,
   "metadata": {},
   "outputs": [],
   "source": []
  }
 ],
 "metadata": {
  "interpreter": {
   "hash": "a9637099bd81b2ef0895c64d539356b45819bc945d59d426757b1f51ae370d50"
  },
  "kernelspec": {
   "display_name": "Python 3.10.2 64-bit ('kevlar': conda)",
   "language": "python",
   "name": "python3"
  },
  "language_info": {
   "codemirror_mode": {
    "name": "ipython",
    "version": 3
   },
   "file_extension": ".py",
   "mimetype": "text/x-python",
   "name": "python",
   "nbconvert_exporter": "python",
   "pygments_lexer": "ipython3",
   "version": "3.10.2"
  }
 },
 "nbformat": 4,
 "nbformat_minor": 2
}
