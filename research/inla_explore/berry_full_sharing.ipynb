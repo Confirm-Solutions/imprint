{
 "cells": [
  {
   "cell_type": "code",
   "execution_count": null,
   "metadata": {},
   "outputs": [],
   "source": [
    "import matplotlib.pyplot as plt\n",
    "%matplotlib inline\n",
    "%config InlineBackend.figure_format='retina'\n",
    "%load_ext autoreload \n",
    "%autoreload 2\n",
    "\n",
    "import scipy.stats\n",
    "import numpy as np"
   ]
  },
  {
   "cell_type": "markdown",
   "metadata": {},
   "source": [
    "# The model and simulations."
   ]
  },
  {
   "cell_type": "markdown",
   "metadata": {},
   "source": [
    "To match with the INLA notation, the $\\theta$ parameter for Berry et al 2013 is called $x$ here. Also, Berry uses:\n",
    "\\begin{equation}\n",
    "\\tilde{x} = logit(p) - logit(p_1)\n",
    "\\end{equation}\n",
    "whereas we use:\n",
    "\\begin{equation}\n",
    "x = logit(p) = \\tilde{x} + logit(p_1)\n",
    "\\end{equation}"
   ]
  },
  {
   "cell_type": "code",
   "execution_count": null,
   "metadata": {},
   "outputs": [],
   "source": [
    "p0 = np.full(1, 0.1) # rate of response below this is the null hypothesis\n",
    "p1 = np.full(1, 0.3) # rate of response above this is the alternative hypothesis.\n",
    "# rate of response > p0 and < p1 is gray area.\n",
    "p0_theta = scipy.special.logit(p0)\n",
    "\n",
    "pmid = (p0 + p1) / 2\n",
    "pmid_theta = scipy.special.logit(pmid)\n",
    "\n",
    " # final evaluation criterion \n",
    " # accept the alternative hypo if Pr(p[i] > p0|data) > pfinal_thresh[i]\n",
    "pfinal_thresh = np.full(1, 0.85)\n",
    "\n",
    "# early stopping criterion\n",
    "pmid_accept = 0.9\n",
    "pmid_fail = 0.05\n",
    "\n",
    "null_x_berry = np.log(p0 / (1 - p0)) - np.log(p1 / (1 - p1))\n",
    "null_x = np.log(p0 / (1 - p0))\n",
    "prior_mu_mean = null_x[0]\n",
    "null_x, null_x_berry"
   ]
  },
  {
   "cell_type": "code",
   "execution_count": null,
   "metadata": {},
   "outputs": [],
   "source": [
    "\n",
    "def berry_prior(theta):\n",
    "    mu = theta[..., 0]\n",
    "    mu_prior = scipy.stats.norm.logpdf(mu, prior_mu_mean, 100)\n",
    "\n",
    "    sigma2 = theta[..., 1]\n",
    "    alpha = 0.0005\n",
    "    beta = 0.000005\n",
    "    sigma2_prior = scipy.stats.invgamma.logpdf(sigma2, alpha, scale=beta)\n",
    "    # sigma2_prior = scipy.stats.uniform.logpdf(sigma2, loc=0.01, scale=1)\n",
    "    return mu_prior + sigma2_prior"
   ]
  },
  {
   "cell_type": "code",
   "execution_count": null,
   "metadata": {},
   "outputs": [],
   "source": [
    "import inla\n",
    "\n",
    "# I got this data by deconstructing the graphs in in Figure 1 of Berry et al 2013.\n",
    "n_i = np.array([[i * 4] for i in [10,15,20,25,30,35]])\n",
    "y_i = np.array([[1, 6, 3, 3], [3, 8, 5, 4], [6,9,7,5], [7,10,8,7], [8,10,9,8], [11, 11, 10, 9]])\n",
    "y_i = np.sum(y_i, axis=1)[:, None]\n",
    "data = np.stack((y_i, n_i), axis=2)\n",
    "\n",
    "model = inla.binomial_hierarchical()\n",
    "model.log_prior = berry_prior\n",
    "\n",
    "mu_rule = inla.simpson_rule(241, -3, 3)\n",
    "sigma2_rule = inla.composite_simpson_rule(\n",
    "    # (31, 1e-7, 1e-6),\n",
    "    # (31, 1e-6, 1e-5),\n",
    "    # (31, 1e-5, 1e-4),\n",
    "    # (31, 1e-4, 1e-3),\n",
    "    # (31, 5e-3, 1e-2),\n",
    "    (31, 1e-2, 1e0),\n",
    "    (31, 1e0, 1e1),\n",
    "    # (31, 1e2, 1e4),\n",
    ")\n",
    "\n",
    "post_theta, logpost_theta_data = inla.calc_posterior_theta(model, data, (mu_rule, sigma2_rule))"
   ]
  },
  {
   "cell_type": "code",
   "execution_count": null,
   "metadata": {},
   "outputs": [],
   "source": [
    "# Plot the theta prior and posteriors.\n",
    "MM = logpost_theta_data[\"theta_grid\"][:,:,0]\n",
    "SS = logpost_theta_data[\"theta_grid\"][:,:,1]\n",
    "# sigma_grid = np.sqrt(SS)\n",
    "sigma_grid = np.log10(SS)\n",
    "levels = np.linspace(-12, 5, 21)\n",
    "for i in range(-1, 6):\n",
    "    if i == -1:\n",
    "        field = model.log_prior(np.stack((MM.flatten(), SS.flatten()), axis=1)[:,None,:])\n",
    "        plt.title(\"Prior\")\n",
    "    else:\n",
    "        field = np.log(np.abs(post_theta[i]))\n",
    "        field[np.isnan(field) | np.isinf(field)] = -20\n",
    "        plt.title(f\"Posterior at Interim Analysis {i+1}\")\n",
    "    cntf = plt.contourf(\n",
    "        MM, sigma_grid, field.reshape(MM.shape), levels=levels, extend=\"both\"\n",
    "    )\n",
    "    plt.contour(\n",
    "        MM,\n",
    "        sigma_grid,\n",
    "        field.reshape(MM.shape),\n",
    "        colors=\"k\",\n",
    "        linestyles=\"-\",\n",
    "        linewidths=0.5,\n",
    "        levels=levels,\n",
    "        extend=\"both\",\n",
    "    )\n",
    "    cbar = plt.colorbar(cntf)\n",
    "    cbar.set_label('$\\log_{10}$ (density)')\n",
    "    plt.xlabel(\"$a$\")\n",
    "    plt.ylabel(\"$\\log_{10} (\\sigma^2)$\")\n",
    "    plt.show()"
   ]
  },
  {
   "cell_type": "code",
   "execution_count": null,
   "metadata": {},
   "outputs": [],
   "source": [
    "mu_post, sigma_post = inla.calc_posterior_x(post_theta, logpost_theta_data)\n",
    "\n",
    "p_post = scipy.special.expit(mu_post)\n",
    "cilow = scipy.special.expit(mu_post - 2 * sigma_post)\n",
    "cihigh = scipy.special.expit(mu_post + 2 * sigma_post)\n",
    "\n",
    "y = data[:, :, 0]\n",
    "n = data[:, :, 1]\n",
    "raw_ratio = y / n\n",
    "p_success = np.empty_like(mu_post)\n",
    "# early stopping criterion\n",
    "p_success[:5] = 1.0 - scipy.stats.norm.cdf(pmid_theta, mu_post[:5], sigma_post[:5])\n",
    "# final success criterion\n",
    "p_success[5] = 1.0 - scipy.stats.norm.cdf(p0_theta, mu_post[5], sigma_post[5])"
   ]
  },
  {
   "cell_type": "code",
   "execution_count": null,
   "metadata": {},
   "outputs": [],
   "source": [
    "pmid, p_post, cilow, cihigh"
   ]
  },
  {
   "cell_type": "code",
   "execution_count": null,
   "metadata": {},
   "outputs": [],
   "source": [
    "map_idx = np.unravel_index(np.argmax(post_theta[0]), post_theta[0].shape)\n",
    "map_idx\n",
    "raw_ratio, mu_post, p_post, sigma_post, pmid_theta, p0_theta"
   ]
  },
  {
   "cell_type": "code",
   "execution_count": null,
   "metadata": {},
   "outputs": [],
   "source": [
    "\n",
    "import matplotlib.gridspec as gridspec\n",
    "\n",
    "fig = plt.figure(figsize=(10, 10))\n",
    "outergs = fig.add_gridspec(2, 3, hspace=0.3)\n",
    "for i in range(data.shape[0]):\n",
    "    arms_idxs = np.arange(1)\n",
    "    innergs = outergs[i].subgridspec(\n",
    "        2, 1, wspace=0, hspace=0, height_ratios=[0.7, 0.3]\n",
    "    )\n",
    "\n",
    "    plt.subplot(innergs[0])\n",
    "    plt.plot(arms_idxs, raw_ratio[i], \"kx\")\n",
    "    plt.plot(arms_idxs, p_post[i], \"ko\", mfc=\"none\")\n",
    "    plt.plot(arms_idxs, p_success[i], \"k \", marker=(8, 2, 0))\n",
    "\n",
    "    plt.vlines(arms_idxs, cilow[i], cihigh[i], color=\"k\", linewidth=1.0)\n",
    "\n",
    "    if i < 5:\n",
    "        plt.title(f\"Interim Analysis {i+1}\")\n",
    "        plt.hlines([pmid_fail, pmid_accept], -1, 4, colors=[\"k\"], linestyles=[\"--\"])\n",
    "        plt.text(-0.1, 0.91, \"Early Success\", fontsize=7)\n",
    "        plt.text(0.1, 0.06, \"Early Futility\", fontsize=7)\n",
    "    else:\n",
    "        plt.title(\"Final Analysis\")\n",
    "        plt.hlines([pfinal_thresh[0]], -1, 4, colors=[\"k\"], linestyles=[\"--\"])\n",
    "        plt.text(-0.1, 0.86, \"Final Success\", fontsize=7)\n",
    "\n",
    "    plt.xlim([-0.3, 0.5])\n",
    "    plt.ylim([0.0, 1.05])\n",
    "    plt.xticks(arms_idxs)\n",
    "    plt.yticks(np.linspace(0.0, 1.0, 6))\n",
    "    plt.xlabel(\"Group\")\n",
    "    plt.ylabel(\"Probability\")\n",
    "\n",
    "    plt.subplot(innergs[1])\n",
    "    plt.bar(\n",
    "        arms_idxs,\n",
    "        n_i[i],\n",
    "        tick_label=[str(i) for i in arms_idxs],\n",
    "        color=(0.6, 0.6, 0.6, 1.0),\n",
    "        edgecolor=\"k\",\n",
    "        zorder=0,\n",
    "    )\n",
    "    plt.bar(\n",
    "        arms_idxs,\n",
    "        y_i[i],\n",
    "        color=(0.6, 0.6, 0.6, 1.0),\n",
    "        hatch=\"////\",\n",
    "        edgecolor=\"w\",\n",
    "        lw=1.0,\n",
    "        zorder=1,\n",
    "    )\n",
    "    #         # draw hatch\n",
    "    # ax1.bar(range(1, 5), range(1, 5), color='none', edgecolor='red', hatch=\"/\", lw=1., zorder = 0)\n",
    "    # # draw edge\n",
    "    plt.bar(arms_idxs, y_i[i], color=\"none\", edgecolor=\"k\", zorder=2)\n",
    "    ticks = np.arange(0, 141, 20)\n",
    "    plt.yticks(ticks, [str(i) if i % 10 == 0 else \"\" for i in ticks])\n",
    "    plt.gca().yaxis.set_label_position(\"right\")\n",
    "    plt.gca().yaxis.tick_right()\n",
    "    plt.xlabel(\"Group\")\n",
    "    plt.ylabel(\"N\")\n",
    "\n",
    "plt.show()\n"
   ]
  }
 ],
 "metadata": {
  "interpreter": {
   "hash": "a9637099bd81b2ef0895c64d539356b45819bc945d59d426757b1f51ae370d50"
  },
  "kernelspec": {
   "display_name": "Python 3.10.2 ('kevlar')",
   "language": "python",
   "name": "python3"
  },
  "language_info": {
   "codemirror_mode": {
    "name": "ipython",
    "version": 3
   },
   "file_extension": ".py",
   "mimetype": "text/x-python",
   "name": "python",
   "nbconvert_exporter": "python",
   "pygments_lexer": "ipython3",
   "version": "3.10.2"
  }
 },
 "nbformat": 4,
 "nbformat_minor": 2
}
