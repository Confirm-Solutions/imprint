{
 "cells": [
  {
   "cell_type": "code",
   "execution_count": null,
   "metadata": {},
   "outputs": [],
   "source": [
    "import matplotlib.pyplot as plt\n",
    "\n",
    "%matplotlib inline\n",
    "%config InlineBackend.figure_format='retina'\n",
    "\n",
    "%load_ext autoreload\n",
    "%autoreload 2\n",
    "\n",
    "import scipy.stats\n",
    "import numpy as np\n",
    "import inla"
   ]
  },
  {
   "cell_type": "code",
   "execution_count": null,
   "metadata": {},
   "outputs": [],
   "source": [
    "A = np.log(1e-8)\n",
    "B = 0\n",
    "N = 90\n",
    "p, w = inla.gauss_rule(N, a=A, b=B)\n",
    "p10 = np.exp(p)\n",
    "alpha = 0.0005\n",
    "beta = 0.000005\n",
    "f = scipy.stats.invgamma.pdf(p10, alpha, scale=beta)\n",
    "plt.plot(p, f)\n",
    "plt.show()\n",
    "exact = scipy.stats.invgamma.cdf(\n",
    "    np.exp(B), alpha, scale=beta\n",
    ") - scipy.stats.invgamma.cdf(np.exp(A), alpha, scale=beta)\n",
    "est = np.sum(f * np.exp(p) * w)\n",
    "plt.plot(p, f * np.exp(p) * w)\n",
    "plt.show()\n",
    "print(exact, est, est - exact)"
   ]
  },
  {
   "cell_type": "code",
   "execution_count": null,
   "metadata": {},
   "outputs": [],
   "source": [
    "p, w = inla.gauss_rule(3000, a=np.exp(A), b=np.exp(B))\n",
    "f = scipy.stats.invgamma.pdf(p, alpha, scale=beta)\n",
    "exact = scipy.stats.invgamma.cdf(\n",
    "    np.exp(B), alpha, scale=beta\n",
    ") - scipy.stats.invgamma.cdf(np.exp(A), alpha, scale=beta)\n",
    "est = np.sum(f * w)\n",
    "est, exact, est - exact"
   ]
  },
  {
   "cell_type": "code",
   "execution_count": null,
   "metadata": {},
   "outputs": [],
   "source": []
  }
 ],
 "metadata": {
  "interpreter": {
   "hash": "a9637099bd81b2ef0895c64d539356b45819bc945d59d426757b1f51ae370d50"
  },
  "kernelspec": {
   "display_name": "Python 3.10.2 ('kevlar')",
   "language": "python",
   "name": "python3"
  },
  "language_info": {
   "codemirror_mode": {
    "name": "ipython",
    "version": 3
   },
   "file_extension": ".py",
   "mimetype": "text/x-python",
   "name": "python",
   "nbconvert_exporter": "python",
   "pygments_lexer": "ipython3",
   "version": "3.10.2"
  }
 },
 "nbformat": 4,
 "nbformat_minor": 2
}
