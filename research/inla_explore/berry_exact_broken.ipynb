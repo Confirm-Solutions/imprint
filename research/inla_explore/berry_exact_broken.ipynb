{
 "cells": [
  {
   "cell_type": "code",
   "execution_count": null,
   "metadata": {},
   "outputs": [],
   "source": [
    "import matplotlib.pyplot as plt\n",
    "%matplotlib inline\n",
    "%config InlineBackend.figure_format='retina'\n",
    "%load_ext autoreload \n",
    "%autoreload 2\n",
    "\n",
    "import scipy.stats\n",
    "import numpy as np"
   ]
  },
  {
   "cell_type": "markdown",
   "metadata": {},
   "source": [
    "# The model and simulations."
   ]
  },
  {
   "cell_type": "markdown",
   "metadata": {},
   "source": [
    "To match with the INLA notation, the $\\theta$ parameter for Berry et al 2013 is called $x$ here. Also, Berry uses:\n",
    "\\begin{equation}\n",
    "\\tilde{x} = logit(p) - logit(p_1)\n",
    "\\end{equation}\n",
    "whereas we use:\n",
    "\\begin{equation}\n",
    "x = logit(p) = \\tilde{x} + logit(p_1)\n",
    "\\end{equation}"
   ]
  },
  {
   "cell_type": "code",
   "execution_count": null,
   "metadata": {},
   "outputs": [],
   "source": [
    "p0 = np.full(4, 0.1) # rate of response below this is the null hypothesis\n",
    "p1 = np.full(4, 0.3) # rate of response above this is the alternative hypothesis.\n",
    "# rate of response > p0 and < p1 is gray area.\n",
    "p0_theta = scipy.special.logit(p0)\n",
    "\n",
    "pmid = (p0 + p1) / 2\n",
    "pmid_theta = scipy.special.logit(pmid)\n",
    "\n",
    " # final evaluation criterion \n",
    " # accept the alternative hypo if Pr(p[i] > p0|data) > pfinal_thresh[i]\n",
    "pfinal_thresh = np.full(4, 0.85)\n",
    "\n",
    "# early stopping criterion\n",
    "pmid_accept = 0.9\n",
    "pmid_fail = 0.05\n",
    "\n",
    "null_x_berry = np.log(p0 / (1 - p0)) - np.log(p1 / (1 - p1))\n",
    "null_x = np.log(p0 / (1 - p0))\n",
    "prior_mu_mean = null_x[0]"
   ]
  },
  {
   "cell_type": "code",
   "execution_count": null,
   "metadata": {},
   "outputs": [],
   "source": [
    "\n",
    "def berry_prior(theta):\n",
    "    mu = theta[..., 0]\n",
    "    mu_prior = scipy.stats.norm.logpdf(mu, prior_mu_mean, 100)\n",
    "\n",
    "    sigma2 = theta[..., 1]\n",
    "    alpha = 0.0005\n",
    "    beta = 0.000005\n",
    "    sigma2_prior = scipy.stats.invgamma.logpdf(sigma2, alpha, scale=beta)\n",
    "    return mu_prior + sigma2_prior"
   ]
  },
  {
   "cell_type": "code",
   "execution_count": null,
   "metadata": {},
   "outputs": [],
   "source": [
    "import inla\n",
    "\n",
    "# I got this data by deconstructing the graphs in in Figure 1 of Berry et al 2013.\n",
    "n_i = np.array([[i] * 4 for i in [10, 15, 20, 25, 30, 35]])\n",
    "y_i = np.array(\n",
    "    [\n",
    "        [1, 6, 3, 3],\n",
    "        [3, 8, 5, 4],\n",
    "        [6, 9, 7, 5],\n",
    "        [7, 10, 8, 7],\n",
    "        [8, 10, 9, 8],\n",
    "        [11, 11, 10, 9],\n",
    "    ]\n",
    ")\n",
    "data = np.stack((y_i, n_i), axis=2)\n",
    "\n",
    "model = inla.binomial_hierarchical()\n",
    "model.log_prior = berry_prior\n",
    "\n",
    "mu_rule = inla.simpson_rule(43, -1.5, -1.0)\n",
    "sigma2_rule = inla.composite_simpson_rule(\n",
    "    (9, 1e-7, 1e-6),\n",
    "    (9, 1e-6, 1e-5),\n",
    "    (9, 1e-5, 1e-4),\n",
    "    (9, 1e-4, 1e-3),\n",
    "    (9, 1e-3, 1e-2),\n",
    "    (9, 1e-2, 1e-1),\n",
    "    (9, 1e-1, 1e0),\n",
    ")\n"
   ]
  },
  {
   "cell_type": "code",
   "execution_count": null,
   "metadata": {},
   "outputs": [],
   "source": [
    "scipy.special.expit(null_x)"
   ]
  },
  {
   "cell_type": "code",
   "execution_count": null,
   "metadata": {},
   "outputs": [],
   "source": [
    "scipy.special.logit(0.01), scipy.special.logit(0.6)"
   ]
  },
  {
   "cell_type": "code",
   "execution_count": null,
   "metadata": {},
   "outputs": [],
   "source": [
    "x_range=[-1.5, -1.0]\n",
    "x_quad = inla.simpson_rule(13, *x_range)\n",
    "x_quad[0], x_quad[1]"
   ]
  },
  {
   "cell_type": "code",
   "execution_count": null,
   "metadata": {},
   "outputs": [],
   "source": [
    "grids = np.meshgrid(x_quad[0], x_quad[0], x_quad[0], x_quad[0], mu_rule[0], sigma2_rule[0], indexing='ij')"
   ]
  },
  {
   "cell_type": "code",
   "execution_count": null,
   "metadata": {},
   "outputs": [],
   "source": [
    "len(grids), grids[0].shape"
   ]
  },
  {
   "cell_type": "code",
   "execution_count": null,
   "metadata": {},
   "outputs": [],
   "source": [
    "grid_stack = np.stack([g.flatten() for g in grids], axis=1)\n",
    "grid_stack.shape"
   ]
  },
  {
   "cell_type": "code",
   "execution_count": null,
   "metadata": {},
   "outputs": [],
   "source": [
    "wts = (\n",
    "    x_quad[1][:, None, None, None, None, None]\n",
    "    * x_quad[1][None, :, None, None, None, None]\n",
    "    * x_quad[1][None, None, :, None, None, None]\n",
    "    * x_quad[1][None, None, None, :, None, None]\n",
    "    * mu_rule[1][None, None, None, None, :, None]\n",
    "    * sigma2_rule[1][None, None, None, None, None, :]\n",
    ")\n",
    "wts = wts.flatten()\n",
    "wts.shape"
   ]
  },
  {
   "cell_type": "code",
   "execution_count": null,
   "metadata": {},
   "outputs": [],
   "source": [
    "giant_grid_x = grid_stack[:, :4]\n",
    "giant_grid_theta = grid_stack[:, 4:6]\n",
    "joint_density = model.log_joint(model, giant_grid_x, data[0], giant_grid_theta)\n",
    "joint_density"
   ]
  },
  {
   "cell_type": "code",
   "execution_count": null,
   "metadata": {},
   "outputs": [],
   "source": [
    "plt.plot(mu_rule[0], joint_density.reshape(grids[0].shape)[6,6,6,6,:,1], 'k-')\n",
    "plt.show()"
   ]
  },
  {
   "cell_type": "code",
   "execution_count": null,
   "metadata": {},
   "outputs": [],
   "source": [
    "grids[0].shape"
   ]
  },
  {
   "cell_type": "code",
   "execution_count": null,
   "metadata": {},
   "outputs": [],
   "source": [
    "plt.plot(np.tile(np.log10(sigma2_rule[0])[None,:], (grids[0].shape[4],1)).T, joint_density.reshape(grids[0].shape)[6,6,6,6,:,:].T)\n",
    "plt.ylim([-1000, 0])\n",
    "plt.show()"
   ]
  },
  {
   "cell_type": "code",
   "execution_count": null,
   "metadata": {},
   "outputs": [],
   "source": [
    "max_x_idx = np.argmax(joint_density.reshape((-1, *grids[0].shape[4:6])), axis=0)\n",
    "max_x0 = np.stack([g.reshape((-1, *grids[0].shape[4:6]))[max_x_idx, 0, 0] for g in grids[:4]], axis=2)\n"
   ]
  },
  {
   "cell_type": "code",
   "execution_count": null,
   "metadata": {},
   "outputs": [],
   "source": [
    "grid1 = grids[4][0,0,0,0]\n",
    "grid2 = np.log10(grids[5][0,0,0,0])\n",
    "field = max_x0[:,:,0]\n",
    "levels = np.linspace(-3, 3, 16)\n",
    "\n",
    "cntf = plt.contourf(\n",
    "    grid1, grid2, field, levels=levels, extend=\"both\"\n",
    ")\n",
    "plt.contour(\n",
    "    grid1,\n",
    "    grid2,\n",
    "    field,\n",
    "    colors=\"k\",\n",
    "    linestyles=\"-\",\n",
    "    linewidths=0.5,\n",
    "    levels=levels,\n",
    "    extend=\"both\",\n",
    ")\n",
    "cbar = plt.colorbar(cntf)\n",
    "# cbar.set_label(None)\n",
    "plt.xlabel(\"$\\mu$\")\n",
    "plt.ylabel(\"$\\log_{10} (\\sigma^2)$\")\n",
    "plt.show()"
   ]
  },
  {
   "cell_type": "code",
   "execution_count": null,
   "metadata": {},
   "outputs": [],
   "source": [
    "joint_density_x0 = np.diag(\n",
    "    joint_density.reshape((-1, *grids[0].shape[4:6]))[max_x_idx].reshape(\n",
    "        (grids[0].shape[4] * grids[0].shape[5], -1)\n",
    "    )\n",
    ").reshape(grids[0].shape[4:])\n",
    "# joint_density_x0 = joint_density.reshape(grids[0].shape)[5,5,5,5,:,:]\n",
    "\n",
    "grid1 = grids[4][0, 0, 0, 0]\n",
    "grid2 = np.log10(grids[5][0, 0, 0, 0])\n",
    "field = joint_density_x0\n",
    "# field -= np.max(field)\n",
    "# levels = np.linspace(np.max(field)-10, np.max(field), 21)\n",
    "levels = np.linspace(-30, -0, 61)\n",
    "\n",
    "cntf = plt.contourf(grid1, grid2, field, levels=levels, extend=\"both\")\n",
    "plt.contour(\n",
    "    grid1,\n",
    "    grid2,\n",
    "    field,\n",
    "    colors=\"k\",\n",
    "    linestyles=\"-\",\n",
    "    linewidths=0.5,\n",
    "    levels=levels,\n",
    "    extend=\"both\",\n",
    ")\n",
    "cbar = plt.colorbar(cntf)\n",
    "# cbar.set_label(None)\n",
    "plt.xlabel(\"$\\mu$\")\n",
    "plt.ylabel(\"$\\log_{10} (\\sigma^2)$\")\n",
    "plt.show()"
   ]
  },
  {
   "cell_type": "code",
   "execution_count": null,
   "metadata": {},
   "outputs": [],
   "source": [
    "plt.plot(x_quad[0], joint_density.reshape(grids[0].shape)[:,6,6,6,1,1], 'k-', label='x1')\n",
    "plt.plot(x_quad[0], joint_density.reshape(grids[0].shape)[6,:,6,6,1,1], 'k-.', label='x2')\n",
    "plt.plot(x_quad[0], joint_density.reshape(grids[0].shape)[6,6,:,6,1,1], label='x3')\n",
    "plt.plot(x_quad[0], joint_density.reshape(grids[0].shape)[6,6,6,:,1,1], label='x4')\n",
    "plt.legend()\n",
    "plt.show()"
   ]
  },
  {
   "cell_type": "code",
   "execution_count": null,
   "metadata": {},
   "outputs": [],
   "source": [
    "x0_marginal=np.sum(\n",
    "    np.exp(joint_density.reshape(grids[0].shape))\n",
    "    * x_quad[1][None, :, None, None, None, None]\n",
    "    * x_quad[1][None, None, :, None, None, None]\n",
    "    * x_quad[1][None, None, None, :, None, None]\n",
    "    * mu_rule[1][None, None, None, None, :, None]\n",
    "    * sigma2_rule[1][None, None, None, None, None, :],\n",
    "    axis=(1,2,3,4,5)\n",
    ")"
   ]
  },
  {
   "cell_type": "code",
   "execution_count": null,
   "metadata": {},
   "outputs": [],
   "source": [
    "sigma2_marginal=np.sum(\n",
    "    np.exp(joint_density.reshape(grids[0].shape))\n",
    "    * x_quad[1][:, None, None, None, None, None]\n",
    "    * x_quad[1][None, :, None, None, None, None]\n",
    "    * x_quad[1][None, None, :, None, None, None]\n",
    "    * x_quad[1][None, None, None, :, None, None]\n",
    "    * mu_rule[1][None, None, None, None, :, None]\n",
    "    # * sigma2_rule[1][None, None, None, None, None, :],\n",
    "    ,axis=(0,1,2,3,4)\n",
    ")"
   ]
  },
  {
   "cell_type": "code",
   "execution_count": null,
   "metadata": {},
   "outputs": [],
   "source": [
    "sigma2_rule[0]"
   ]
  },
  {
   "cell_type": "code",
   "execution_count": null,
   "metadata": {},
   "outputs": [],
   "source": [
    "cell_volume = sigma2_rule[1][:, None]\n",
    "cell_volume = scipy.ndimage.gaussian_filter(cell_volume, 1.0)\n",
    "plt.plot(np.log(cell_volume))\n",
    "plt.show()"
   ]
  },
  {
   "cell_type": "code",
   "execution_count": null,
   "metadata": {},
   "outputs": [],
   "source": [
    "plt.plot(np.log10(sigma2_rule[0]), np.log10(sigma2_marginal))# + np.log10(cell_volume[:,0]))\n",
    "plt.show()"
   ]
  },
  {
   "cell_type": "code",
   "execution_count": null,
   "metadata": {},
   "outputs": [],
   "source": [
    "np.exp(joint_density.max())"
   ]
  },
  {
   "cell_type": "code",
   "execution_count": null,
   "metadata": {},
   "outputs": [],
   "source": [
    "joint_density_nonlog = np.exp(joint_density.reshape(grids[0].shape) + np.max(joint_density.max()))\n",
    "mu_sig_marginal = np.sum(\n",
    "    joint_density_nonlog \n",
    "    * x_quad[1][:, None, None, None, None, None]\n",
    "    * x_quad[1][None, :, None, None, None, None]\n",
    "    * x_quad[1][None, None, :, None, None, None]\n",
    "    * x_quad[1][None, None, None, :, None, None]\n",
    "    # * mu_rule[1][None, None, None, None, :, None]\n",
    "    # * sigma2_rule[1][None, None, None, None, None, :],\n",
    "    ,axis=(0,1,2,3)\n",
    ")"
   ]
  },
  {
   "cell_type": "code",
   "execution_count": null,
   "metadata": {},
   "outputs": [],
   "source": [
    "grid1 = grids[4][0,0,0,0]\n",
    "grid2 = np.log10(grids[5][0,0,0,0])\n",
    "field = np.log10(mu_sig_marginal)\n",
    "field[np.isnan(field) | np.isinf(field)] = -280\n",
    "field -= np.max(field)\n",
    "levels = np.linspace(-30, 0, 31)\n",
    "\n",
    "cntf = plt.contourf(\n",
    "    grid1, grid2, field, levels=levels, extend=\"both\"\n",
    ")\n",
    "plt.contour(\n",
    "    grid1,\n",
    "    grid2,\n",
    "    field,\n",
    "    colors=\"k\",\n",
    "    linestyles=\"-\",\n",
    "    linewidths=0.5,\n",
    "    levels=levels,\n",
    "    extend=\"both\",\n",
    ")\n",
    "cbar = plt.colorbar(cntf)\n",
    "# cbar.set_label(None)\n",
    "plt.xlabel(\"$\\mu$\")\n",
    "plt.ylabel(\"$\\log_{10} (\\sigma^2)$\")\n",
    "plt.ylim([-3, -1])\n",
    "plt.show()"
   ]
  },
  {
   "cell_type": "code",
   "execution_count": null,
   "metadata": {},
   "outputs": [],
   "source": []
  }
 ],
 "metadata": {
  "interpreter": {
   "hash": "a9637099bd81b2ef0895c64d539356b45819bc945d59d426757b1f51ae370d50"
  },
  "kernelspec": {
   "display_name": "Python 3.10.2 ('kevlar')",
   "language": "python",
   "name": "python3"
  },
  "language_info": {
   "codemirror_mode": {
    "name": "ipython",
    "version": 3
   },
   "file_extension": ".py",
   "mimetype": "text/x-python",
   "name": "python",
   "nbconvert_exporter": "python",
   "pygments_lexer": "ipython3",
   "version": "3.10.2"
  }
 },
 "nbformat": 4,
 "nbformat_minor": 2
}
