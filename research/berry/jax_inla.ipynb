{
    "cells": [
        {
            "cell_type": "code",
            "execution_count": 1,
            "metadata": {},
            "outputs": [
                {
                    "name": "stderr",
                    "output_type": "stream",
                    "text": [
                        "/home/const/mambaforge/envs/imprint/lib/python3.10/site-packages/tqdm/auto.py:22: TqdmWarning: IProgress not found. Please update jupyter and ipywidgets. See https://ipywidgets.readthedocs.io/en/stable/user_install.html\n",
                        "  from .autonotebook import tqdm as notebook_tqdm\n"
                    ]
                }
            ],
            "source": [
                "import sys\n",
                "\n",
                "import jax\n",
                "import jax.numpy as jnp\n",
                "import numpyro.distributions as dist\n",
                "import matplotlib.pyplot as plt\n",
                "\n",
                "\n",
                "from berrylib.constants import Y_I, Y_I2, N_I, N_I2\n",
                "from jax.config import config\n",
                "config.update(\"jax_enable_x64\", False)\n",
                "\n"
            ]
        },
        {
            "cell_type": "code",
            "execution_count": 27,
            "metadata": {},
            "outputs": [
                {
                    "name": "stdout",
                    "output_type": "stream",
                    "text": [
                        "D 1000.0\n",
                        "[0.00028571 0.00128571 0.00228571 0.00328571]\n",
                        "D 100.0\n",
                        "[-0.01  0.    0.01  0.02]\n",
                        "D 10.0\n",
                        "[-0.14390244 -0.04390244  0.05609756  0.15609756]\n",
                        "D 1.0\n",
                        "[-1.49376559 -0.49376559  0.50623441  1.50623441]\n",
                        "D 0.1\n",
                        "[-14.99375156  -4.99375156   5.00624844  15.00624844]\n",
                        "D 0.01\n",
                        "[-149.99375016  -49.99375016   50.00624984  150.00624984]\n",
                        "D 0.001\n",
                        "[-1499.99375002  -499.99375002   500.00624998  1500.00624998]\n",
                        "D 0.0001\n",
                        "[-14999.99375  -4999.99375   5000.00625  15000.00625]\n",
                        "D 1e-05\n",
                        "[-149999.99375  -49999.99375   50000.00625  150000.00625]\n",
                        "D 1e-06\n",
                        "[-1499999.99375  -499999.99375   500000.00625  1500000.00625]\n"
                    ]
                }
            ],
            "source": [
                "import numpy as np\n",
                "import berrylib.fast_inla\n",
                "import importlib\n",
                "from functools import partial\n",
                "\n",
                "importlib.reload(berrylib.fast_inla)\n",
                "from berrylib.fast_inla import FastINLA, jax_opt, jax_faster_inv_product\n",
                "\n",
                "def jax_faster_inv_product(D, S, G):\n",
                "    \"\"\"Compute (diag(D)+S)^-1 @ G.\n",
                "\n",
                "    This function uses \"Sherman-Morrison\" formula:\n",
                "    https://en.wikipedia.org/wiki/Sherman–Morrison_formula\n",
                "    \"\"\"\n",
                "    D_inverse = 1.0 / D\n",
                "    multiplier = -S / (1 + (S / D).sum())\n",
                "    # return D_inverse *(multiplier * jnp.dot(D_inverse, G) +  G)\n",
                "    D_norm = jnp.abs(D).sum()\n",
                "    D_normed = D / D_norm\n",
                "    return (-S * (G / D_normed).sum() / (D_norm + (S  / D_normed).sum()) + G) / D\n",
                "\n",
                "Ds = jnp.arange(3, -7, -1)\n",
                "S = 100\n",
                "G = jnp.arange(1, 5)\n",
                "for D in Ds:\n",
                "    D = 10.0**D\n",
                "    print('D', D)\n",
                "    D = jnp.repeat(D, 4)\n",
                "    D_inverse = 1.0 / D\n",
                "    multiplier = -S / (1 + (S / D).sum())\n",
                "    d_multiplier = -S / (D + S*len(D))\n",
                "    a, b = D_inverse *(multiplier * jnp.dot(D_inverse, G)), D_inverse * G\n",
                "    # print(\"inv\", D_inverse)\n",
                "    # print(multiplier * D_inverse)\n",
                "    # print(d_multiplier)\n",
                "    print(jax_faster_inv_product(D, S, G))\n",
                "    # print(jax_faster_inv_product(D, S, G) * D)\n",
                "# assert jax.config.read(\"jax_enable_x64\")\n",
                "\n",
                "# fi = FastINLA(n_arms=4)\n",
                "# # sigma2 = jnp.array(1e5)\n",
                "# y = jnp.array([0, 0, 30, 30])\n",
                "# n = jnp.array([30, 30, 30, 30])\n",
                "# # # fi.jax_inference(y, n)\n",
                "# j = -2\n",
                "# jax_opt(\n",
                "#     y,\n",
                "#     n,\n",
                "#     fi.sigma2_pts_jax[j],\n",
                "#     fi.neg_precQ_jax[j],\n",
                "#     fi.precQ_eig_vals_jax[j],\n",
                "#     fi.precQ_eig_vecs_jax[j],\n",
                "#     fi.logit_p1,\n",
                "#     fi.mu_0,\n",
                "#     fi.tol,\n",
                "#     fast_loop=False,\n",
                "# )\n"
            ]
        },
        {
            "cell_type": "code",
            "execution_count": 164,
            "metadata": {},
            "outputs": [
                {
                    "data": {
                        "text/plain": [
                            "(array([[ 0.,  0., -1., ...,  1.,  1.,  1.],\n",
                            "        [ 0.,  0., -1., ...,  1.,  1.,  1.],\n",
                            "        [ 0.,  0., -1., ...,  1.,  1.,  1.],\n",
                            "        ...,\n",
                            "        [ 1.,  1.,  1., ...,  1.,  1.,  1.],\n",
                            "        [ 1.,  1.,  1., ...,  1.,  1.,  1.],\n",
                            "        [ 1.,  1.,  1., ...,  1.,  1.,  1.]]),\n",
                            " array([[        -inf,         -inf,  -7.11662666, ...,   6.93373191,\n",
                            "           8.5175151 ,   8.87252596],\n",
                            "        [        -inf,         -inf,  -7.11662666, ...,   6.93373191,\n",
                            "           8.5175151 ,   8.87252596],\n",
                            "        [        -inf,         -inf,  -7.11662666, ...,   6.93373191,\n",
                            "           8.5175151 ,   8.87252596],\n",
                            "        ...,\n",
                            "        [-15.78124253, -15.25253092, -14.32642149, ...,   1.32578601,\n",
                            "           2.18722541,   2.42099027],\n",
                            "        [-15.81360094, -15.28283245, -14.3575988 , ...,  -2.60645969,\n",
                            "          -2.60283052,  -2.60188043],\n",
                            "        [-15.83460559, -15.30497092, -14.383241  , ...,  -3.23427153,\n",
                            "          -3.23251662,  -3.23205077]]))"
                        ]
                    },
                    "execution_count": 164,
                    "metadata": {},
                    "output_type": "execute_result"
                }
            ],
            "source": [
                "with open(\"/home/const/imprint/out.txt\") as f:\n",
                "    arr = np.array(eval(f.read()))\n",
                "arr.shape\n",
                "np.linalg.slogdet(arr)\n"
            ]
        },
        {
            "cell_type": "code",
            "execution_count": 18,
            "metadata": {},
            "outputs": [
                {
                    "name": "stdout",
                    "output_type": "stream",
                    "text": [
                        "0.0010487821918949499\n",
                        "[0.00074172 0.00074148]\n"
                    ]
                }
            ],
            "source": [
                "# with jit:\n",
                "x = np.array([2.3373992443084717, 2.337362289428711])\n",
                "y = np.array([2.3381409645080566, 2.338103771209717])\n",
                "\n",
                "def \n",
                "\n",
                "# without jit:\n",
                "# [2.3373985290527344, 2.3373618125915527]\n",
                "print(np.linalg.norm(x - y))\n",
                "print(np.abs(x-y))\n"
            ]
        },
        {
            "cell_type": "code",
            "execution_count": 61,
            "metadata": {},
            "outputs": [
                {
                    "name": "stdout",
                    "output_type": "stream",
                    "text": [
                        "[[-6.37561     0.02439026  0.02439024  0.02439024]\n",
                        " [ 0.02439026 -6.37561     0.02439026  0.02439025]\n",
                        " [ 0.02439025  0.02439026 -6.37561     0.02439024]\n",
                        " [ 0.02439025  0.02439025  0.02439024 -6.37561   ]]\n",
                        "[[-0.1568547  -0.00060468 -0.00060468 -0.00060468]\n",
                        " [-0.00060468 -0.15685467 -0.00060468 -0.00060468]\n",
                        " [-0.00060468 -0.00060468 -0.15685469 -0.00060468]\n",
                        " [-0.00060468 -0.00060468 -0.00060468 -0.15685469]]\n"
                    ]
                }
            ],
            "source": [
                "def logit(x):\n",
                "    return jnp.log(x) - jnp.log(1 - x)\n",
                "\n",
                "\n",
                "def get_log_berry_likelihood(y, n):\n",
                "    def log_berry_likelihood(theta, sigma_sq):\n",
                "        ll = 0.0\n",
                "        ll += dist.InverseGamma(0.0005, 0.000005).log_prob(sigma_sq)\n",
                "        cov = jnp.full((4, 4), 100) + jnp.diag(jnp.repeat(sigma_sq, 4))\n",
                "        ll += (\n",
                "            dist.MultivariateNormal(-1.34, covariance_matrix=cov).log_prob(theta).sum()\n",
                "        )\n",
                "        ll += dist.BinomialLogits(logit(0.3) + theta, total_count=n).log_prob(y).sum()\n",
                "        return ll\n",
                "\n",
                "    return log_berry_likelihood\n",
                "\n",
                "\n",
                "ll = get_log_berry_likelihood(y, n)\n",
                "theta = jnp.array([0.0, 0, 0, 0])\n",
                "sigma_sq = 1e1\n",
                "ll(theta, sigma_sq)\n",
                "grad = jax.grad(ll, 0)\n",
                "hess = jax.jacobian(grad)\n",
                "h = hess(theta, sigma_sq)\n",
                "print(h)\n",
                "print(jnp.linalg.inv(h))\n"
            ]
        },
        {
            "cell_type": "code",
            "execution_count": null,
            "metadata": {},
            "outputs": [],
            "source": [
                "def mcmc_berry_model(y, n):\n",
                "    # y, n = data\n",
                "    mu = numpyro.sample(\"mu\", dist.Normal(-1.34, 10))\n",
                "    sigma2 = numpyro.sample(\"sigma2\", dist.InverseGamma(0.0005, 0.000005))\n",
                "    with numpyro.plate(\"j\", 4):\n",
                "        theta = numpyro.sample(\n",
                "            \"theta\",\n",
                "            dist.Normal(mu, jax.numpy.sqrt(sigma2)),\n",
                "        )\n",
                "        numpyro.sample(\n",
                "            \"y\",\n",
                "            dist.BinomialLogits(theta + 0, total_count=n),\n",
                "            obs=y,\n",
                "        )\n"
            ]
        },
        {
            "cell_type": "markdown",
            "metadata": {},
            "source": [
                "# Stochastic Variational Inference"
            ]
        },
        {
            "cell_type": "code",
            "execution_count": null,
            "metadata": {},
            "outputs": [
                {
                    "name": "stderr",
                    "output_type": "stream",
                    "text": [
                        "100%|██████████| 3000/3000 [00:02<00:00, 1104.55it/s, init loss: 78.8034, avg. loss [2851-3000]: 19.7578]\n"
                    ]
                }
            ],
            "source": [
                "import numpyro\n",
                "from functools import partial\n",
                "from numpyro.infer import Predictive, SVI, Trace_ELBO, init_to_uniform\n",
                "from numpyro.contrib.einstein import RBFKernel, SteinVI\n",
                "from numpyro.infer.autoguide import (\n",
                "    AutoLaplaceApproximation,\n",
                "    AutoDelta,\n",
                "    AutoMultivariateNormal,\n",
                "    AutoBNAFNormal,\n",
                ")\n",
                "\n",
                "data = Y_I2[-1], N_I2[-1]\n",
                "y, n = data\n",
                "model = mcmc_berry_model\n",
                "optimizer = numpyro.optim.Adam(step_size=0.005)\n",
                "# guide = AutoLaplaceApproximation(model)\n",
                "guide = AutoBNAFNormal(model)\n",
                "# guide = AutoMultivariateNormal(model)\n",
                "# guide = AutoDelta(model, init_loc_fn=partial(init_to_uniform, radius=0.1))\n",
                "svi = SVI(model, guide, optimizer, loss=Trace_ELBO())\n",
                "svi_result = svi.run(jax.random.PRNGKey(0), 3_000, y, n)\n",
                "params = svi_result.params\n",
                "predictive = Predictive(guide, params=params, num_samples=100000)\n",
                "samples = predictive(jax.random.PRNGKey(1), data)\n"
            ]
        },
        {
            "cell_type": "code",
            "execution_count": null,
            "metadata": {},
            "outputs": [
                {
                    "data": {
                        "text/plain": [
                            "[<matplotlib.lines.Line2D at 0x14dc2b910>]"
                        ]
                    },
                    "execution_count": 112,
                    "metadata": {},
                    "output_type": "execute_result"
                },
                {
                    "data": {
                        "image/png": "[encoded data removed]",
                        "text/plain": [
                            "<Figure size 432x288 with 1 Axes>"
                        ]
                    },
                    "metadata": {
                        "needs_background": "light"
                    },
                    "output_type": "display_data"
                }
            ],
            "source": [
                "plt.plot(svi_result.losses)\n"
            ]
        },
        {
            "cell_type": "code",
            "execution_count": null,
            "metadata": {},
            "outputs": [
                {
                    "data": {
                        "image/png": "[encoded data removed]",
                        "text/plain": [
                            "<Figure size 720x360 with 1 Axes>"
                        ]
                    },
                    "metadata": {
                        "needs_background": "light"
                    },
                    "output_type": "display_data"
                }
            ],
            "source": [
                "plt.figure(figsize=(10, 5))\n",
                "for i in range(4):\n",
                "    s = samples[\"theta\"][:, i]\n",
                "    s = s[jnp.newaxis]\n",
                "    plt.hist(s, bins=100, density=True, label=f\"$\\\\theta_{i}$\", alpha=0.5)\n",
                "plt.legend()\n",
                "None\n"
            ]
        },
        {
            "cell_type": "markdown",
            "metadata": {},
            "source": [
                "$ P(x_i | x_{-i}, y, \\theta) = P(x, y, \\theta) / P(x_{-i}, \\theta, y) $"
            ]
        },
        {
            "cell_type": "code",
            "execution_count": null,
            "metadata": {},
            "outputs": [],
            "source": []
        },
        {
            "cell_type": "markdown",
            "metadata": {},
            "source": [
                "2) gaussian approx at x=mu(theta)\n",
                "\n",
                "* p_thetaIy = log_berry_likelihood(vars) - p_x_I_theta_y  \n",
                "\n",
                "* Note the last term depends on a fixed theta too\n",
                "\n",
                "2) p_thetaIy = log_berry_likelihood(vars) - .5 * log(-H(f(x_0)))  \n",
                "\n",
                "3) p_xiIy = sum(p_xiItheta_y + p_thetaIy for theta in thetas)\n",
                "\n",
                "* times dTheta\n",
                "\n",
                "* p_xiItheta_y is skew normal approximation at MAP"
            ]
        },
        {
            "cell_type": "markdown",
            "metadata": {},
            "source": [
                "$ P(t|y) = P(x, t, y) / gaussian(P(x | t, y)) $\n",
                "\n",
                "$ P(x_i|t,y) = P(x, t, y) / gaussian(P(x-i|t,y)) $\n",
                "\n",
                "$ P(x_i | y) = \\sum(P(xi|t,y) * P(t|y) \\Delta t) $\n",
                "\n",
                "$ P(x_i | y) = \\sum(P(xi|t,y) * P(t|y) \\Delta t) $"
            ]
        },
        {
            "cell_type": "code",
            "execution_count": null,
            "metadata": {},
            "outputs": [
                {
                    "name": "stdout",
                    "output_type": "stream",
                    "text": [
                        "(6,)\n"
                    ]
                },
                {
                    "data": {
                        "text/plain": [
                            "DeviceArray([[-1.03994812e+02,  0.00000000e+00,  0.00000000e+00,\n",
                            "               0.00000000e+00,  1.00000000e+02,  9.65321387e+03],\n",
                            "             [ 0.00000000e+00, -1.04937164e+02,  0.00000000e+00,\n",
                            "               0.00000000e+00,  1.00000000e+02,  2.25158911e+03],\n",
                            "             [ 0.00000000e+00,  0.00000000e+00, -1.07928795e+02,\n",
                            "               0.00000000e+00,  1.00000000e+02,  6.33029883e+03],\n",
                            "             [ 0.00000000e+00,  0.00000000e+00,  0.00000000e+00,\n",
                            "              -1.08560623e+02,  1.00000000e+02,  2.96381812e+03],\n",
                            "             [ 1.00000000e+02,  1.00000000e+02,  1.00000000e+02,\n",
                            "               1.00000000e+02, -4.00010010e+02, -2.11989219e+04],\n",
                            "             [ 9.65321289e+03,  2.25158911e+03,  6.33029883e+03,\n",
                            "               2.96381812e+03, -2.11989180e+04, -1.44111600e+06]],            dtype=float32)"
                        ]
                    },
                    "execution_count": 16,
                    "metadata": {},
                    "output_type": "execute_result"
                }
            ],
            "source": [
                "y = Y_I2[-1]\n",
                "n = N_I2[-1]\n",
                "log_berry_likelihood = get_log_berry_likelihood(y, n)\n",
                "grad = jax.grad(log_berry_likelihood, 0)\n",
                "hess = jax.jacobian(grad)\n",
                "# theta = jnp.zeros(4)\n",
                "key = jax.random.PRNGKey(0)\n",
                "theta = jax.random.uniform(key, [4])\n",
                "mu = jnp.zeros(1)\n",
                "sigma = jnp.array(0.01)[jnp.newaxis]\n",
                "vars = jnp.concatenate([theta, mu, sigma])\n",
                "print(vars.shape)\n",
                "jnp.exp(log_berry_likelihood(vars))\n",
                "grad(vars)\n",
                "h = hess(vars)\n",
                "h\n"
            ]
        },
        {
            "cell_type": "code",
            "execution_count": null,
            "metadata": {},
            "outputs": [],
            "source": [
                "N_ARMS = 4\n",
                "\n",
                "\n",
                "def pack_vars(theta, mu, sigma):\n",
                "    return jnp.concatenate([theta, mu, sigma])\n",
                "\n",
                "\n",
                "def unpack_vars(vars):\n",
                "    return vars[:N_ARMS], vars[N_ARMS], vars[N_ARMS + 1]\n",
                "\n",
                "\n",
                "# print(hs.shape)\n",
                "@jax.jit\n",
                "def chol():\n",
                "    hs = jnp.stack([h for i in range(4 * 16)])\n",
                "    return jax.lax.linalg.cholesky(\n",
                "        hs,\n",
                "    )\n",
                "    # return jnp.linalg.inv(hs)\n",
                "\n",
                "\n",
                "# %timeit chol()\n",
                "\n",
                "# @jax.jit\n",
                "def optimize(theta, sigma, mask):\n",
                "    log_berry_likelihood = get_log_berry_likelihood(y, n)\n",
                "    grad = jax.grad(log_berry_likelihood, 0)\n",
                "    hess = jax.jacobian(grad)\n",
                "    # theta = jnp.zeros(4)\n",
                "    mu = jnp.zeros(1)\n",
                "    sigma = jnp.array(sigma)[jnp.newaxis]\n",
                "    vars = pack_vars(theta, mu, sigma)\n",
                "    # Do a newton iteration\n",
                "    pvars = None\n",
                "    for _ in range(10):\n",
                "        g = grad(vars)\n",
                "        h = hess(vars)\n",
                "        g = g[mask]\n",
                "        h = h[mask, mask]\n",
                "        pvars = vars\n",
                "        print(jnp.diag(h))\n",
                "        update = jnp.linalg.solve(h, g)\n",
                "        vars = vars.at[mask].add(-update)\n",
                "        # assert not jnp.isnan(vars).any()\n",
                "        # print(jnp.linalg.norm(pvars - vars))\n",
                "    return vars\n"
            ]
        },
        {
            "cell_type": "code",
            "execution_count": null,
            "metadata": {},
            "outputs": [
                {
                    "name": "stdout",
                    "output_type": "stream",
                    "text": [
                        "[-1.0000001e+08 -1.0000001e+08 -1.0000001e+08 -1.0000001e+08\n",
                        " -4.0000000e+08]\n",
                        "[-1.0000001e+08 -1.0000001e+08 -1.0000001e+08 -1.0000001e+08\n",
                        " -4.0000000e+08]\n",
                        "[-1.0000001e+08 -1.0000001e+08 -1.0000001e+08 -1.0000001e+08\n",
                        " -4.0000000e+08]\n",
                        "[-1.0000000e+08 -1.0000000e+08 -1.0000001e+08 -1.0000001e+08\n",
                        " -4.0000000e+08]\n",
                        "[-1.0000000e+08 -1.0000000e+08 -1.0000001e+08 -1.0000001e+08\n",
                        " -4.0000000e+08]\n",
                        "[-1.0000000e+08 -1.0000000e+08 -1.0000001e+08 -1.0000001e+08\n",
                        " -4.0000000e+08]\n",
                        "[-1.0000000e+08 -1.0000000e+08 -1.0000001e+08 -1.0000001e+08\n",
                        " -4.0000000e+08]\n",
                        "[-1.0000000e+08 -1.0000000e+08 -1.0000001e+08 -1.0000001e+08\n",
                        " -4.0000000e+08]\n",
                        "[-1.0000000e+08 -1.0000000e+08 -1.0000001e+08 -1.0000001e+08\n",
                        " -4.0000000e+08]\n",
                        "[-1.0000000e+08 -1.0000000e+08 -1.0000001e+08 -1.0000001e+08\n",
                        " -4.0000000e+08]\n"
                    ]
                },
                {
                    "data": {
                        "text/plain": [
                            "DeviceArray([-1.5039762e+00, -1.5039762e+00, -1.5039762e+00,\n",
                            "             -1.5039761e+00, -1.5039762e+00,  9.9999999e-09],            dtype=float32)"
                        ]
                    },
                    "execution_count": 26,
                    "metadata": {},
                    "output_type": "execute_result"
                }
            ],
            "source": [
                "theta = jnp.zeros(4)\n",
                "sigma = 1e-8\n",
                "mask = jnp.s_[0:5]\n",
                "optimize(theta, sigma, mask)\n"
            ]
        },
        {
            "cell_type": "code",
            "execution_count": null,
            "metadata": {},
            "outputs": [],
            "source": []
        },
        {
            "cell_type": "code",
            "execution_count": null,
            "metadata": {},
            "outputs": [],
            "source": [
                "sigmas = jnp.power(10, jnp.linspace(-8, 3, 10))\n",
                "thetas = jnp.linspace(-10, 10, 10)\n",
                "mask = jnp.s_[1:5]\n",
                "varss = []\n",
                "for sigma in sigmas:\n",
                "    for theta in thetas:\n",
                "        theta = jnp.zeros(4).at[0].set(theta)\n",
                "        vars = optimize(theta, sigma, mask)\n",
                "        varss.append(vars)\n",
                "varss = jnp.stack(varss)\n"
            ]
        },
        {
            "cell_type": "code",
            "execution_count": null,
            "metadata": {},
            "outputs": [
                {
                    "data": {
                        "text/plain": [
                            "(100, 6)"
                        ]
                    },
                    "execution_count": 6,
                    "metadata": {},
                    "output_type": "execute_result"
                }
            ],
            "source": [
                "varss.shape\n"
            ]
        },
        {
            "cell_type": "code",
            "execution_count": null,
            "metadata": {},
            "outputs": [
                {
                    "data": {
                        "text/plain": [
                            "<matplotlib.collections.PathCollection at 0x1683349a0>"
                        ]
                    },
                    "execution_count": 7,
                    "metadata": {},
                    "output_type": "execute_result"
                },
                {
                    "data": {
                        "image/png": "[encoded data removed]",
                        "text/plain": [
                            "<Figure size 432x288 with 1 Axes>"
                        ]
                    },
                    "metadata": {
                        "needs_background": "light"
                    },
                    "output_type": "display_data"
                }
            ],
            "source": [
                "sigmas = jnp.log10(varss[:, N_ARMS + 1])\n",
                "thetas = varss[:, :N_ARMS]\n",
                "plt.scatter(sigmas, jnp.mean(thetas, 1))\n",
                "plt.scatter(sigmas, jnp.std(thetas, 1))\n"
            ]
        },
        {
            "cell_type": "code",
            "execution_count": null,
            "metadata": {},
            "outputs": [],
            "source": []
        },
        {
            "cell_type": "code",
            "execution_count": null,
            "metadata": {},
            "outputs": [
                {
                    "data": {
                        "text/plain": [
                            "<matplotlib.collections.PathCollection at 0x29596a520>"
                        ]
                    },
                    "execution_count": 81,
                    "metadata": {},
                    "output_type": "execute_result"
                },
                {
                    "data": {
                        "image/png": "[encoded data removed]",
                        "text/plain": [
                            "<Figure size 432x288 with 1 Axes>"
                        ]
                    },
                    "metadata": {
                        "needs_background": "light"
                    },
                    "output_type": "display_data"
                }
            ],
            "source": [
                "x = 90\n",
                "plt.scatter(thetas[x : x + 10, 0], thetas[x : x + 10, 1])\n"
            ]
        },
        {
            "cell_type": "code",
            "execution_count": null,
            "metadata": {},
            "outputs": [
                {
                    "data": {
                        "text/plain": [
                            "DeviceArray([[-2.9434702 , -1.0610158 , -0.91644555],\n",
                            "             [-2.9433036 , -1.0609921 , -0.9164234 ],\n",
                            "             [-2.943137  , -1.0609684 , -0.91640127],\n",
                            "             [-2.9429703 , -1.0609446 , -0.916379  ],\n",
                            "             [-2.9428034 , -1.0609208 , -0.91635674],\n",
                            "             [-2.9426367 , -1.0608972 , -0.91633445],\n",
                            "             [-2.94247   , -1.0608734 , -0.9163123 ],\n",
                            "             [-2.9423037 , -1.0608497 , -0.91629004],\n",
                            "             [-2.942137  , -1.060826  , -0.9162678 ],\n",
                            "             [-2.9419703 , -1.0608022 , -0.91624564]], dtype=float32)"
                        ]
                    },
                    "execution_count": 76,
                    "metadata": {},
                    "output_type": "execute_result"
                }
            ],
            "source": [
                "thetas[x : x + 10]\n"
            ]
        },
        {
            "cell_type": "code",
            "execution_count": null,
            "metadata": {},
            "outputs": [
                {
                    "name": "stderr",
                    "output_type": "stream",
                    "text": [
                        "/Users/alexconstantino/.local/share/virtualenvs/research-pVCP8Qup/lib/python3.8/site-packages/jax/_src/tree_util.py:185: FutureWarning: jax.tree_util.tree_multimap() is deprecated. Please use jax.tree_util.tree_map() instead as a drop-in replacement.\n",
                        "  warnings.warn('jax.tree_util.tree_multimap() is deprecated. Please use jax.tree_util.tree_map() '\n"
                    ]
                }
            ],
            "source": [
                "import numpy as np\n",
                "import numpyro\n",
                "import numpyro.distributions as dist\n",
                "from numpyro.infer import MCMC, NUTS\n",
                "\n",
                "\n",
                "def mcmc_berry_model(y, n):\n",
                "    mu = numpyro.sample(\"mu\", dist.Normal(-1.34, 10))\n",
                "    sigma2 = numpyro.sample(\"sigma2\", dist.InverseGamma(0.0005, 0.000005))\n",
                "    with numpyro.plate(\"j\", 2):\n",
                "        theta = numpyro.sample(\n",
                "            \"theta\",\n",
                "            dist.Normal(mu, jax.numpy.sqrt(sigma2)),\n",
                "        )\n",
                "        numpyro.sample(\n",
                "            \"y\",\n",
                "            dist.BinomialLogits(theta + (np.log(0.3) - np.log(1 - 0.3)), total_count=n),\n",
                "            obs=y,\n",
                "        )\n",
                "\n",
                "\n",
                "def do_mcmc(rng_key, y, n):\n",
                "    nuts_kernel = NUTS(mcmc_berry_model)\n",
                "    mcmc = MCMC(\n",
                "        nuts_kernel,\n",
                "        progress_bar=False,\n",
                "        num_warmup=10_000,\n",
                "        num_samples=1_000_000,\n",
                "        thinning=10,\n",
                "    )\n",
                "    mcmc.run(rng_key, y, n)\n",
                "    return mcmc.get_samples(group_by_chain=True)\n",
                "\n",
                "\n",
                "s = do_mcmc(jax.random.PRNGKey(0), jnp.array([4, 8]), jnp.array([35, 35]))\n"
            ]
        },
        {
            "cell_type": "code",
            "execution_count": null,
            "metadata": {},
            "outputs": [
                {
                    "name": "stdout",
                    "output_type": "stream",
                    "text": [
                        "[0.06822955]\n",
                        "(100000,)\n"
                    ]
                },
                {
                    "data": {
                        "image/png": "[encoded data removed]",
                        "text/plain": [
                            "<Figure size 504x360 with 1 Axes>"
                        ]
                    },
                    "metadata": {},
                    "output_type": "display_data"
                }
            ],
            "source": [
                "sig = s[\"sigma2\"]\n",
                "# sig = sig[np.newaxis]\n",
                "sig = sig[:, :][0]\n",
                "print(np.quantile(sig, [0.5]))\n",
                "sig = np.log10(sig)\n",
                "print(sig.shape)\n",
                "fig = plt.figure(figsize=(7, 5))\n",
                "plt.hist(sig, bins=10)\n",
                "plt.xlabel(\"log10(sigma^2)\")\n",
                "fig.patch.set_alpha(1)\n"
            ]
        },
        {
            "cell_type": "code",
            "execution_count": null,
            "metadata": {},
            "outputs": [],
            "source": [
                "def jax_calc_posterior_and_exceedances(\n",
                "    theta_max,\n",
                "    y,\n",
                "    n,\n",
                "    log_prior,\n",
                "    neg_precQ,\n",
                "    logprecQdet,\n",
                "    hess_inv,\n",
                "    sigma2_wts,\n",
                "    logit_p1,\n",
                "    mu_0,\n",
                "    thresh_theta,\n",
                "):\n",
                "    theta_m0 = theta_max - mu_0\n",
                "    theta_adj = theta_max + logit_p1\n",
                "    exp_theta_adj = jnp.exp(theta_adj)\n",
                "    logjoint = (\n",
                "        0.5 * jnp.einsum(\"...i,...ij,...j\", theta_m0, neg_precQ, theta_m0)\n",
                "        + logprecQdet\n",
                "        + jnp.sum(\n",
                "            theta_adj * y[:, None] - n[:, None] * jnp.log(exp_theta_adj + 1),\n",
                "            axis=-1,\n",
                "        )\n",
                "        + log_prior\n",
                "    )\n",
                "\n",
                "    log_sigma2_post = logjoint + 0.5 * jnp.log(jnp.linalg.det(-hess_inv))\n",
                "    sigma2_post = jnp.exp(log_sigma2_post)\n",
                "    sigma2_post /= jnp.sum(sigma2_post * sigma2_wts, axis=1)[:, None]\n",
                "\n",
                "    theta_sigma = jnp.sqrt(jnp.diagonal(-hess_inv, axis1=2, axis2=3))\n",
                "    exc_sigma2 = 1.0 - jax.scipy.stats.norm.cdf(\n",
                "        thresh_theta,\n",
                "        theta_max,\n",
                "        theta_sigma,\n",
                "    )\n",
                "    exceedances = jnp.sum(\n",
                "        exc_sigma2 * sigma2_post[:, :, None] * sigma2_wts[None, :, None], axis=1\n",
                "    )\n",
                "    return sigma2_post, exceedances\n"
            ]
        }
    ],
    "metadata": {
        "kernelspec": {
            "display_name": "Python 3.10.5 ('imprint')",
            "language": "python",
            "name": "python3"
        },
        "language_info": {
            "codemirror_mode": {
                "name": "ipython",
                "version": 3
            },
            "file_extension": ".py",
            "mimetype": "text/x-python",
            "name": "python",
            "nbconvert_exporter": "python",
            "pygments_lexer": "ipython3",
            "version": "3.10.5"
        },
        "orig_nbformat": 4,
        "vscode": {
            "interpreter": {
                "hash": "ea5f5adf5f977c7a2bc75c836eed5ad36faef5592565920a9031cf920f38b81d"
            }
        }
    },
    "nbformat": 4,
    "nbformat_minor": 2
}
